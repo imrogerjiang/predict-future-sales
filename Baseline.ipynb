{
 "cells": [
  {
   "cell_type": "code",
   "execution_count": 1,
   "id": "3c8428a4",
   "metadata": {},
   "outputs": [],
   "source": [
    "import pandas as pd\n",
    "import numpy as np\n",
    "import matplotlib.pyplot as plt\n",
    "import datetime as dt\n",
    "import sklearn as sk\n",
    "from sklearn import ensemble\n",
    "import os"
   ]
  },
  {
   "cell_type": "code",
   "execution_count": 2,
   "id": "06199249",
   "metadata": {},
   "outputs": [],
   "source": [
    "pd.options.mode.use_inf_as_na = True"
   ]
  },
  {
   "cell_type": "code",
   "execution_count": 3,
   "id": "a6fca65d",
   "metadata": {},
   "outputs": [],
   "source": [
    "DATA_FOLDER = '/home/roger/code/kaggle/predict-future-sales/data/'\n",
    "PRED_FOLDER = '/home/roger/code/kaggle/predict-future-sales/predictions/'\n",
    "\n",
    "transactions    = pd.read_csv(DATA_FOLDER + 'sales_train.csv')\n",
    "items           = pd.read_csv(DATA_FOLDER + 'items.csv')\n",
    "item_categories = pd.read_csv(DATA_FOLDER + 'item_categories_en.csv')\n",
    "shops           = pd.read_csv(DATA_FOLDER + 'shops_en.csv')\n",
    "test            = pd.read_csv(DATA_FOLDER + 'test.csv')\n",
    "sample          = pd.read_csv(DATA_FOLDER + 'sample_submission.csv')"
   ]
  },
  {
   "cell_type": "code",
   "execution_count": 4,
   "id": "5a3ae841",
   "metadata": {},
   "outputs": [],
   "source": [
    "train = (transactions\n",
    "     .merge(items, on=\"item_id\")\n",
    "     .merge(item_categories, on=\"item_category_id\")\n",
    "     .merge(shops, on=\"shop_id\"))\n",
    "train[\"date\"] = pd.to_datetime(train[\"date\"], format=\"%d.%m.%Y\")"
   ]
  },
  {
   "cell_type": "code",
   "execution_count": 5,
   "id": "4b107816",
   "metadata": {},
   "outputs": [
    {
     "data": {
      "text/html": [
       "<div>\n",
       "<style scoped>\n",
       "    .dataframe tbody tr th:only-of-type {\n",
       "        vertical-align: middle;\n",
       "    }\n",
       "\n",
       "    .dataframe tbody tr th {\n",
       "        vertical-align: top;\n",
       "    }\n",
       "\n",
       "    .dataframe thead th {\n",
       "        text-align: right;\n",
       "    }\n",
       "</style>\n",
       "<table border=\"1\" class=\"dataframe\">\n",
       "  <thead>\n",
       "    <tr style=\"text-align: right;\">\n",
       "      <th></th>\n",
       "      <th>0</th>\n",
       "      <th>1</th>\n",
       "      <th>2</th>\n",
       "      <th>3</th>\n",
       "      <th>4</th>\n",
       "    </tr>\n",
       "  </thead>\n",
       "  <tbody>\n",
       "    <tr>\n",
       "      <th>date</th>\n",
       "      <td>2013-01-02 00:00:00</td>\n",
       "      <td>2013-04-26 00:00:00</td>\n",
       "      <td>2013-06-26 00:00:00</td>\n",
       "      <td>2013-07-20 00:00:00</td>\n",
       "      <td>2013-09-14 00:00:00</td>\n",
       "    </tr>\n",
       "    <tr>\n",
       "      <th>date_block_num</th>\n",
       "      <td>0</td>\n",
       "      <td>3</td>\n",
       "      <td>5</td>\n",
       "      <td>6</td>\n",
       "      <td>8</td>\n",
       "    </tr>\n",
       "    <tr>\n",
       "      <th>shop_id</th>\n",
       "      <td>59</td>\n",
       "      <td>59</td>\n",
       "      <td>59</td>\n",
       "      <td>59</td>\n",
       "      <td>59</td>\n",
       "    </tr>\n",
       "    <tr>\n",
       "      <th>item_id</th>\n",
       "      <td>22154</td>\n",
       "      <td>944</td>\n",
       "      <td>944</td>\n",
       "      <td>944</td>\n",
       "      <td>944</td>\n",
       "    </tr>\n",
       "    <tr>\n",
       "      <th>item_price</th>\n",
       "      <td>999.0</td>\n",
       "      <td>150.0</td>\n",
       "      <td>199.5</td>\n",
       "      <td>199.5</td>\n",
       "      <td>299.0</td>\n",
       "    </tr>\n",
       "    <tr>\n",
       "      <th>item_cnt_day</th>\n",
       "      <td>1.0</td>\n",
       "      <td>1.0</td>\n",
       "      <td>1.0</td>\n",
       "      <td>1.0</td>\n",
       "      <td>2.0</td>\n",
       "    </tr>\n",
       "    <tr>\n",
       "      <th>item_name</th>\n",
       "      <td>ЯВЛЕНИЕ 2012 (BD)</td>\n",
       "      <td>2012 (BD)</td>\n",
       "      <td>2012 (BD)</td>\n",
       "      <td>2012 (BD)</td>\n",
       "      <td>2012 (BD)</td>\n",
       "    </tr>\n",
       "    <tr>\n",
       "      <th>item_category_id</th>\n",
       "      <td>37</td>\n",
       "      <td>37</td>\n",
       "      <td>37</td>\n",
       "      <td>37</td>\n",
       "      <td>37</td>\n",
       "    </tr>\n",
       "    <tr>\n",
       "      <th>item_category_name</th>\n",
       "      <td>Cinema - Blu-Ray</td>\n",
       "      <td>Cinema - Blu-Ray</td>\n",
       "      <td>Cinema - Blu-Ray</td>\n",
       "      <td>Cinema - Blu-Ray</td>\n",
       "      <td>Cinema - Blu-Ray</td>\n",
       "    </tr>\n",
       "    <tr>\n",
       "      <th>shop_name</th>\n",
       "      <td>Yaroslavl TC \"Altair\"</td>\n",
       "      <td>Yaroslavl TC \"Altair\"</td>\n",
       "      <td>Yaroslavl TC \"Altair\"</td>\n",
       "      <td>Yaroslavl TC \"Altair\"</td>\n",
       "      <td>Yaroslavl TC \"Altair\"</td>\n",
       "    </tr>\n",
       "  </tbody>\n",
       "</table>\n",
       "</div>"
      ],
      "text/plain": [
       "                                         0                       1  \\\n",
       "date                   2013-01-02 00:00:00     2013-04-26 00:00:00   \n",
       "date_block_num                           0                       3   \n",
       "shop_id                                 59                      59   \n",
       "item_id                              22154                     944   \n",
       "item_price                           999.0                   150.0   \n",
       "item_cnt_day                           1.0                     1.0   \n",
       "item_name                ЯВЛЕНИЕ 2012 (BD)               2012 (BD)   \n",
       "item_category_id                        37                      37   \n",
       "item_category_name        Cinema - Blu-Ray        Cinema - Blu-Ray   \n",
       "shop_name           Yaroslavl TC \"Altair\"   Yaroslavl TC \"Altair\"    \n",
       "\n",
       "                                         2                       3  \\\n",
       "date                   2013-06-26 00:00:00     2013-07-20 00:00:00   \n",
       "date_block_num                           5                       6   \n",
       "shop_id                                 59                      59   \n",
       "item_id                                944                     944   \n",
       "item_price                           199.5                   199.5   \n",
       "item_cnt_day                           1.0                     1.0   \n",
       "item_name                        2012 (BD)               2012 (BD)   \n",
       "item_category_id                        37                      37   \n",
       "item_category_name        Cinema - Blu-Ray        Cinema - Blu-Ray   \n",
       "shop_name           Yaroslavl TC \"Altair\"   Yaroslavl TC \"Altair\"    \n",
       "\n",
       "                                         4  \n",
       "date                   2013-09-14 00:00:00  \n",
       "date_block_num                           8  \n",
       "shop_id                                 59  \n",
       "item_id                                944  \n",
       "item_price                           299.0  \n",
       "item_cnt_day                           2.0  \n",
       "item_name                        2012 (BD)  \n",
       "item_category_id                        37  \n",
       "item_category_name        Cinema - Blu-Ray  \n",
       "shop_name           Yaroslavl TC \"Altair\"   "
      ]
     },
     "execution_count": 5,
     "metadata": {},
     "output_type": "execute_result"
    }
   ],
   "source": [
    "train.head().T"
   ]
  },
  {
   "cell_type": "markdown",
   "id": "7b43fefd",
   "metadata": {},
   "source": [
    "## Predicts sales with most recent months sales"
   ]
  },
  {
   "cell_type": "code",
   "execution_count": 16,
   "id": "4dd40729",
   "metadata": {},
   "outputs": [
    {
     "data": {
      "text/html": [
       "<div>\n",
       "<style scoped>\n",
       "    .dataframe tbody tr th:only-of-type {\n",
       "        vertical-align: middle;\n",
       "    }\n",
       "\n",
       "    .dataframe tbody tr th {\n",
       "        vertical-align: top;\n",
       "    }\n",
       "\n",
       "    .dataframe thead th {\n",
       "        text-align: right;\n",
       "    }\n",
       "</style>\n",
       "<table border=\"1\" class=\"dataframe\">\n",
       "  <thead>\n",
       "    <tr style=\"text-align: right;\">\n",
       "      <th></th>\n",
       "      <th>date_block_num</th>\n",
       "      <th>shop_id</th>\n",
       "      <th>item_id</th>\n",
       "      <th>item_cnt_day</th>\n",
       "    </tr>\n",
       "  </thead>\n",
       "  <tbody>\n",
       "    <tr>\n",
       "      <th>0</th>\n",
       "      <td>0</td>\n",
       "      <td>0</td>\n",
       "      <td>32</td>\n",
       "      <td>6.0</td>\n",
       "    </tr>\n",
       "    <tr>\n",
       "      <th>1</th>\n",
       "      <td>0</td>\n",
       "      <td>0</td>\n",
       "      <td>33</td>\n",
       "      <td>3.0</td>\n",
       "    </tr>\n",
       "    <tr>\n",
       "      <th>2</th>\n",
       "      <td>0</td>\n",
       "      <td>0</td>\n",
       "      <td>35</td>\n",
       "      <td>1.0</td>\n",
       "    </tr>\n",
       "    <tr>\n",
       "      <th>3</th>\n",
       "      <td>0</td>\n",
       "      <td>0</td>\n",
       "      <td>43</td>\n",
       "      <td>1.0</td>\n",
       "    </tr>\n",
       "    <tr>\n",
       "      <th>4</th>\n",
       "      <td>0</td>\n",
       "      <td>0</td>\n",
       "      <td>51</td>\n",
       "      <td>2.0</td>\n",
       "    </tr>\n",
       "  </tbody>\n",
       "</table>\n",
       "</div>"
      ],
      "text/plain": [
       "   date_block_num  shop_id  item_id  item_cnt_day\n",
       "0               0        0       32           6.0\n",
       "1               0        0       33           3.0\n",
       "2               0        0       35           1.0\n",
       "3               0        0       43           1.0\n",
       "4               0        0       51           2.0"
      ]
     },
     "execution_count": 16,
     "metadata": {},
     "output_type": "execute_result"
    }
   ],
   "source": [
    "X = (transactions[[\"date_block_num\", \"shop_id\", \"item_id\", \"item_cnt_day\"]]\n",
    "     .groupby([\"date_block_num\", \"shop_id\", \"item_id\"])\n",
    "     .agg(\"sum\")\n",
    "     .reset_index()\n",
    "    )\n",
    "X.head()"
   ]
  },
  {
   "cell_type": "code",
   "execution_count": 17,
   "id": "88338db0",
   "metadata": {},
   "outputs": [
    {
     "data": {
      "text/plain": [
       "33"
      ]
     },
     "execution_count": 17,
     "metadata": {},
     "output_type": "execute_result"
    }
   ],
   "source": [
    "X[\"date_block_num\"].max()"
   ]
  },
  {
   "cell_type": "code",
   "execution_count": 21,
   "id": "9f9ccf6a",
   "metadata": {},
   "outputs": [],
   "source": [
    "sample1 = sample.merge(test, on=\"ID\")\n",
    "sample2 = sample1.merge(\n",
    "    X[X[\"date_block_num\"]==33].drop(columns=\"date_block_num\"),\n",
    "    how=\"left\",\n",
    "    on=[\"shop_id\", \"item_id\"]\n",
    ")"
   ]
  },
  {
   "cell_type": "code",
   "execution_count": 24,
   "id": "be1c0896",
   "metadata": {},
   "outputs": [],
   "source": [
    "sample2[\"item_cnt_month\"] = (\n",
    "    sample2[\"item_cnt_day\"]\n",
    "    .apply(lambda x:0 if np.isnan(x) else x)\n",
    ")"
   ]
  },
  {
   "cell_type": "code",
   "execution_count": 26,
   "id": "9dc9ce4b",
   "metadata": {},
   "outputs": [],
   "source": [
    "sample2[[\"ID\", \"item_cnt_month\"]].to_csv(\"comp_submissions/month33.csv\", index=False)"
   ]
  },
  {
   "cell_type": "code",
   "execution_count": 27,
   "id": "d6cea7e1",
   "metadata": {},
   "outputs": [
    {
     "data": {
      "text/plain": [
       "(214200, 5)"
      ]
     },
     "execution_count": 27,
     "metadata": {},
     "output_type": "execute_result"
    }
   ],
   "source": [
    "sample2.shape"
   ]
  },
  {
   "cell_type": "code",
   "execution_count": null,
   "id": "cb95323f",
   "metadata": {},
   "outputs": [],
   "source": []
  }
 ],
 "metadata": {
  "kernelspec": {
   "display_name": "coursera",
   "language": "python",
   "name": "coursera"
  },
  "language_info": {
   "codemirror_mode": {
    "name": "ipython",
    "version": 3
   },
   "file_extension": ".py",
   "mimetype": "text/x-python",
   "name": "python",
   "nbconvert_exporter": "python",
   "pygments_lexer": "ipython3",
   "version": "3.9.6"
  }
 },
 "nbformat": 4,
 "nbformat_minor": 5
}
