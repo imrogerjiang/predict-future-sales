{
 "cells": [
  {
   "cell_type": "code",
   "execution_count": 4,
   "id": "ccd588f4",
   "metadata": {},
   "outputs": [],
   "source": [
    "import pandas as pd\n",
    "import numpy as np\n",
    "import matplotlib.pyplot as plt\n",
    "\n",
    "import catboost as cb\n",
    "MODEL_FOLDER = \"catboost_models/\""
   ]
  },
  {
   "cell_type": "code",
   "execution_count": null,
   "id": "26d056f1",
   "metadata": {},
   "outputs": [],
   "source": [
    "model = cb.CatBoostClassifier()\n",
    "model.load_model(MODEL_FOLDER + \"basic_cb_model\")"
   ]
  },
  {
   "cell_type": "code",
   "execution_count": null,
   "id": "f6432f03",
   "metadata": {},
   "outputs": [],
   "source": []
  }
 ],
 "metadata": {
  "kernelspec": {
   "display_name": "coursera",
   "language": "python",
   "name": "coursera"
  },
  "language_info": {
   "codemirror_mode": {
    "name": "ipython",
    "version": 3
   },
   "file_extension": ".py",
   "mimetype": "text/x-python",
   "name": "python",
   "nbconvert_exporter": "python",
   "pygments_lexer": "ipython3",
   "version": "3.9.6"
  }
 },
 "nbformat": 4,
 "nbformat_minor": 5
}
