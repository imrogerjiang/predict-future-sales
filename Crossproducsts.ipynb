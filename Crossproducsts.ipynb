{
 "cells": [
  {
   "cell_type": "code",
   "execution_count": 66,
   "id": "74121caf",
   "metadata": {},
   "outputs": [],
   "source": [
    "import os\n",
    "import pandas as pd\n",
    "import numpy as np\n",
    "import matplotlib.pyplot as plt\n",
    "\n",
    "from freetextmethods import word_counts\n",
    "from compressdf import compress_df"
   ]
  },
  {
   "cell_type": "code",
   "execution_count": 72,
   "id": "a769b599",
   "metadata": {},
   "outputs": [],
   "source": [
    "pd.options.mode.use_inf_as_na = True\n",
    "DATA_FOLDER = '/home/roger/code/kaggle/predict-future-sales/data'\n",
    "SUBMISSION_FOLDER = \"comp_submissions/\"\n",
    "index_vars = [\"date_block_num\", \"shop_id\", \"item_id\"]\n",
    "\n",
    "transactions       = pd.read_csv(os.path.join(DATA_FOLDER, 'sales_train.csv'))\n",
    "items              = pd.read_csv(os.path.join(DATA_FOLDER, 'items.csv'))\n",
    "item_categories    = pd.read_csv(os.path.join(DATA_FOLDER, 'item_categories.csv'))\n",
    "item_categories_en = pd.read_csv(os.path.join(DATA_FOLDER, 'item_categories_en.csv'))\n",
    "shops              = pd.read_csv(os.path.join(DATA_FOLDER, 'shops.csv'))\n",
    "shops_en           = pd.read_csv(os.path.join(DATA_FOLDER, 'shops_en.csv'))\n",
    "test_ids           = pd.read_csv(os.path.join(DATA_FOLDER, 'test.csv'))\n",
    "sample             = pd.read_csv(os.path.join(DATA_FOLDER, 'sample_submission.csv'))\n",
    "\n",
    "# Adding English translations to item_categories and shops\n",
    "item_categories = item_categories.merge(\n",
    "    item_categories_en[[\"item_category_id\", \"item_category_name\"]]\n",
    "        .rename(columns={\"item_category_name\":\"item_category_name_en\"}),\n",
    "    on=\"item_category_id\")\n",
    "item_categories.head()\n",
    "\n",
    "shops = shops.merge(\n",
    "    shops_en[[\"shop_id\", \"shop_name\"]]\n",
    "        .rename(columns={\"shop_name\":\"shop_name_en\"}),\n",
    "    on=\"shop_id\")"
   ]
  },
  {
   "cell_type": "code",
   "execution_count": 121,
   "id": "c6bd59fe",
   "metadata": {},
   "outputs": [],
   "source": [
    "# Aggregate by sale month + append test set\n",
    "sales_by_month = (transactions[index_vars + [\"item_cnt_day\"]]\n",
    "                   .groupby(index_vars)\n",
    "                   .agg(\"sum\")\n",
    "                   .rename(columns={\"item_cnt_day\":\"item_cnt_month\"})\n",
    "                   .reset_index())\n",
    "\n",
    "sales_by_month[\"item_cnt_month_orig\"] = sales_by_month[\"item_cnt_month\"]\n",
    "sales_by_month[\"item_cnt_month\"] = sales_by_month[\"item_cnt_month\"].clip(0, 20)"
   ]
  },
  {
   "cell_type": "code",
   "execution_count": 99,
   "id": "afed8313",
   "metadata": {},
   "outputs": [],
   "source": [
    "sales_by_month_skeleton = pd.DataFrame()"
   ]
  },
  {
   "cell_type": "code",
   "execution_count": 103,
   "id": "40bc47c2",
   "metadata": {},
   "outputs": [],
   "source": [
    "m = 1\n",
    "shop_ids = sales_by_month[sales_by_month[\"date_block_num\"] == m][\"shop_id\"].unique()\n",
    "item_ids = sales_by_month[sales_by_month[\"date_block_num\"] == m][\"item_id\"].unique()\n",
    "#   items sold cross product shops with sales during month m\n",
    "cross_join = pd.merge(left=pd.Series(shop_ids, name=\"shop_id\"), \n",
    "                      right=pd.Series(item_ids, name=\"item_id\"), \n",
    "                      how=\"cross\")\n",
    "cross_join[\"date_block_num\"] = m\n",
    "if m>0:\n",
    "    cross_join.index = cross_join.index + sales_by_month_skeleton.index.max() + 1\n",
    "sales_by_month_skeleton = pd.concat([sales_by_month_skeleton, cross_join], axis=\"rows\")"
   ]
  },
  {
   "cell_type": "code",
   "execution_count": null,
   "id": "b20e3fd3",
   "metadata": {},
   "outputs": [],
   "source": [
    "sales_by_month = sales_by_month.merge(\n",
    "    cross_join,\n",
    "    on=index_vars,\n",
    "    how=\"outer\")\n",
    "sales_by_month[\"item_cnt_month\"] = sales_by_month[[\"item_cnt_month\", \"item_cnt_month_zeros\"]].max(axis=\"columns\")"
   ]
  },
  {
   "cell_type": "code",
   "execution_count": 79,
   "id": "2af33959",
   "metadata": {},
   "outputs": [
    {
     "data": {
      "text/html": [
       "<div>\n",
       "<style scoped>\n",
       "    .dataframe tbody tr th:only-of-type {\n",
       "        vertical-align: middle;\n",
       "    }\n",
       "\n",
       "    .dataframe tbody tr th {\n",
       "        vertical-align: top;\n",
       "    }\n",
       "\n",
       "    .dataframe thead th {\n",
       "        text-align: right;\n",
       "    }\n",
       "</style>\n",
       "<table border=\"1\" class=\"dataframe\">\n",
       "  <thead>\n",
       "    <tr style=\"text-align: right;\">\n",
       "      <th></th>\n",
       "      <th>0</th>\n",
       "      <th>1</th>\n",
       "      <th>2</th>\n",
       "      <th>3</th>\n",
       "      <th>4</th>\n",
       "    </tr>\n",
       "  </thead>\n",
       "  <tbody>\n",
       "    <tr>\n",
       "      <th>date_block_num</th>\n",
       "      <td>0.0</td>\n",
       "      <td>0.0</td>\n",
       "      <td>0.0</td>\n",
       "      <td>0.0</td>\n",
       "      <td>0.0</td>\n",
       "    </tr>\n",
       "    <tr>\n",
       "      <th>shop_id</th>\n",
       "      <td>0.0</td>\n",
       "      <td>0.0</td>\n",
       "      <td>0.0</td>\n",
       "      <td>0.0</td>\n",
       "      <td>0.0</td>\n",
       "    </tr>\n",
       "    <tr>\n",
       "      <th>item_id</th>\n",
       "      <td>32.0</td>\n",
       "      <td>33.0</td>\n",
       "      <td>35.0</td>\n",
       "      <td>43.0</td>\n",
       "      <td>51.0</td>\n",
       "    </tr>\n",
       "    <tr>\n",
       "      <th>item_cnt_month</th>\n",
       "      <td>6.0</td>\n",
       "      <td>3.0</td>\n",
       "      <td>1.0</td>\n",
       "      <td>1.0</td>\n",
       "      <td>2.0</td>\n",
       "    </tr>\n",
       "    <tr>\n",
       "      <th>item_cnt_month_orig</th>\n",
       "      <td>6.0</td>\n",
       "      <td>3.0</td>\n",
       "      <td>1.0</td>\n",
       "      <td>1.0</td>\n",
       "      <td>2.0</td>\n",
       "    </tr>\n",
       "    <tr>\n",
       "      <th>item_cnt_month_zeros</th>\n",
       "      <td>0.0</td>\n",
       "      <td>0.0</td>\n",
       "      <td>0.0</td>\n",
       "      <td>0.0</td>\n",
       "      <td>0.0</td>\n",
       "    </tr>\n",
       "  </tbody>\n",
       "</table>\n",
       "</div>"
      ],
      "text/plain": [
       "                         0     1     2     3     4\n",
       "date_block_num         0.0   0.0   0.0   0.0   0.0\n",
       "shop_id                0.0   0.0   0.0   0.0   0.0\n",
       "item_id               32.0  33.0  35.0  43.0  51.0\n",
       "item_cnt_month         6.0   3.0   1.0   1.0   2.0\n",
       "item_cnt_month_orig    6.0   3.0   1.0   1.0   2.0\n",
       "item_cnt_month_zeros   0.0   0.0   0.0   0.0   0.0"
      ]
     },
     "execution_count": 79,
     "metadata": {},
     "output_type": "execute_result"
    }
   ],
   "source": [
    "sales_by_month.head().T"
   ]
  },
  {
   "cell_type": "code",
   "execution_count": 119,
   "id": "f99ab93d",
   "metadata": {
    "collapsed": true
   },
   "outputs": [
    {
     "name": "stdout",
     "output_type": "stream",
     "text": [
      "0 365175\n",
      "1 375728\n",
      "2 381892\n",
      "3 374670\n",
      "4 375255\n",
      "5 389988\n",
      "6 386630\n",
      "7 361395\n",
      "8 354420\n",
      "9 369794\n",
      "10 364005\n",
      "11 389804\n",
      "12 347346\n",
      "13 328164\n",
      "14 342816\n",
      "15 331926\n",
      "16 327565\n",
      "17 327369\n",
      "18 330550\n",
      "19 324513\n",
      "20 303550\n",
      "21 329368\n",
      "22 316100\n",
      "23 330250\n",
      "24 306950\n",
      "25 284491\n",
      "26 279772\n",
      "27 257372\n",
      "28 232452\n",
      "29 224288\n",
      "30 228889\n",
      "31 214536\n",
      "32 218655\n",
      "33 238172\n"
     ]
    }
   ],
   "source": [
    "FINAL_MONTH = 33\n",
    "sales_by_month_skeleton = pd.DataFrame()\n",
    "\n",
    "for m in range(FINAL_MONTH + 1):\n",
    "    shop_ids = sales_by_month[sales_by_month[\"date_block_num\"] == m][\"shop_id\"].unique()\n",
    "    item_ids = sales_by_month[sales_by_month[\"date_block_num\"] == m][\"item_id\"].unique()\n",
    "    #   items sold cross product shops with sales during month m\n",
    "    cross_join = pd.merge(left=pd.Series(shop_ids, name=\"shop_id\"), \n",
    "                          right=pd.Series(item_ids, name=\"item_id\"), \n",
    "                          how=\"cross\")\n",
    "    cross_join[\"date_block_num\"] = m\n",
    "    if m>0:\n",
    "        cross_join.index = cross_join.index + sales_by_month_skeleton.index.max() + 1\n",
    "    sales_by_month_skeleton = pd.concat([sales_by_month_skeleton, cross_join], axis=\"rows\")\n",
    "\n",
    "sales_by_month_skeleton[\"item_cnt_month_zeros\"] = 0.0"
   ]
  },
  {
   "cell_type": "code",
   "execution_count": 122,
   "id": "449aac8f",
   "metadata": {},
   "outputs": [],
   "source": [
    "sales_by_month = sales_by_month.merge(\n",
    "            sales_by_month_skeleton,\n",
    "            on=index_vars,\n",
    "            how=\"outer\")\n",
    "sales_by_month[\"item_cnt_month\"] = sales_by_month[[\"item_cnt_month\", \"item_cnt_month_zeros\"]].max(axis=\"rows\")\n",
    "sales_by_month = sales_by_month.drop(columns=\"item_cnt_month_zeros\")"
   ]
  }
 ],
 "metadata": {
  "kernelspec": {
   "display_name": "coursera",
   "language": "python",
   "name": "coursera"
  },
  "language_info": {
   "codemirror_mode": {
    "name": "ipython",
    "version": 3
   },
   "file_extension": ".py",
   "mimetype": "text/x-python",
   "name": "python",
   "nbconvert_exporter": "python",
   "pygments_lexer": "ipython3",
   "version": "3.9.6"
  }
 },
 "nbformat": 4,
 "nbformat_minor": 5
}
