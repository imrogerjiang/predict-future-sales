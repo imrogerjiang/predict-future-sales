{
 "cells": [
  {
   "cell_type": "code",
   "execution_count": null,
   "id": "4210d107",
   "metadata": {},
   "outputs": [],
   "source": [
    "import pandas as pd\n",
    "import numpy as np\n",
    "import matplotlib.pyplot as plt\n",
    "import datetime as dt\n",
    "import sklearn as sk\n",
    "import os\n",
    "\n",
    "from sklearn import metrics\n",
    "from sklearn.feature_extraction.text import CountVectorizer"
   ]
  },
  {
   "cell_type": "code",
   "execution_count": null,
   "id": "83aa77a9",
   "metadata": {},
   "outputs": [],
   "source": [
    "pd.options.mode.use_inf_as_na = True\n",
    "DATA_FOLDER = '/home/roger/code/kaggle/predict-future-sales/data'\n",
    "\n",
    "transactions       = pd.read_csv(os.path.join(DATA_FOLDER, 'sales_train.csv'))\n",
    "items              = pd.read_csv(os.path.join(DATA_FOLDER, 'items.csv'))\n",
    "item_categories    = pd.read_csv(os.path.join(DATA_FOLDER, 'item_categories.csv'))\n",
    "item_categories_en = pd.read_csv(os.path.join(DATA_FOLDER, 'item_categories_en.csv'))\n",
    "shops              = pd.read_csv(os.path.join(DATA_FOLDER, 'shops.csv'))\n",
    "shops_en           = pd.read_csv(os.path.join(DATA_FOLDER, 'shops_en.csv'))\n",
    "test               = pd.read_csv(os.path.join(DATA_FOLDER, 'test.csv'))\n",
    "sample             = pd.read_csv(os.path.join(DATA_FOLDER, 'sample_submission.csv'))\n",
    "\n",
    "# Adding English translations to item_categories and shops\n",
    "item_categories = item_categories.merge(\n",
    "    item_categories_en[[\"item_category_id\", \"item_category_name\"]]\n",
    "        .rename(columns={\"item_category_name\":\"item_category_name_en\"}),\n",
    "    on=\"item_category_id\")\n",
    "item_categories.head()\n",
    "\n",
    "shops = shops.merge(\n",
    "    shops_en[[\"shop_id\", \"shop_name\"]]\n",
    "        .rename(columns={\"shop_name\":\"shop_name_en\"}),\n",
    "    on=\"shop_id\")\n",
    "\n",
    "index_vars = [\"date_block_num\", \"shop_id\", \"item_id\"]"
   ]
  },
  {
   "cell_type": "code",
   "execution_count": null,
   "id": "3bb9d483",
   "metadata": {},
   "outputs": [],
   "source": [
    "print(transactions.head(2).T)\n",
    "print(items.head(1).T)\n",
    "print(item_categories.head(2).T)\n",
    "print(shops.head(2).T)"
   ]
  },
  {
   "cell_type": "code",
   "execution_count": null,
   "id": "8041cecf",
   "metadata": {},
   "outputs": [],
   "source": [
    "# Converting date to dt format\n",
    "transactions[\"date\"] = pd.to_datetime(transactions[\"date\"], format=\"%d.%m.%Y\")\n",
    "\n",
    "# Month and Season categories.\n",
    "seasons={\n",
    "    \"01\":\"2\",\n",
    "    \"02\":\"2\",\n",
    "    \"03\":\"3\",\n",
    "    \"04\":\"3\",\n",
    "    \"05\":\"3\",\n",
    "    \"06\":\"4\",\n",
    "    \"07\":\"4\",\n",
    "    \"08\":\"4\",\n",
    "    \"09\":\"1\",\n",
    "    \"10\":\"1\",\n",
    "    \"11\":\"1\",\n",
    "    \"12\":\"2\",\n",
    "}\n",
    "\n",
    "transactions[\"month\"] = pd.DatetimeIndex(transactions[\"date\"]).month\n",
    "transactions[\"month\"] = transactions[\"month\"].apply(lambda x: f\"{x:02}\")\n",
    "transactions[\"season\"] = transactions[\"month\"].map(seasons)\n",
    "transactions[\"quarter\"] = (transactions[\"month\"].apply(int)+2)//3\n",
    "transactions[\"quarter\"] = transactions[\"quarter\"].apply(str)"
   ]
  },
  {
   "cell_type": "code",
   "execution_count": null,
   "id": "c7a54c70",
   "metadata": {},
   "outputs": [],
   "source": [
    "# Months_on_sale\n",
    "# TODO: Cannot tell how many months item was sold before dataset started.\n",
    "sales_by_month = (transactions[index_vars + [\"item_cnt_day\"]]\n",
    "                   .groupby(index_vars)\n",
    "                   .agg(\"sum\")\n",
    "                   .rename(columns={\"item_cnt_day\":\"item_cnt_month\"})\n",
    "                   .reset_index())\n",
    "first_month = (sales_by_month[sales_by_month[\"item_cnt_month\"] > 0]\n",
    "               .groupby([\"shop_id\", \"item_id\"])\n",
    "               .agg({\"date_block_num\":\"min\"})\n",
    "               .rename(columns={\"date_block_num\":\"first_sold_month\"})\n",
    "               .reset_index())\n",
    "first_month = first_month.astype({\"first_sold_month\":object})\n",
    "sales_by_month = sales_by_month.merge(first_month, on=[\"shop_id\", \"item_id\"], how=\"left\")\n",
    "sales_by_month[\"months_since_first_sale\"] = sales_by_month[\"date_block_num\"]-sales_by_month[\"first_sold_month\"]"
   ]
  },
  {
   "cell_type": "code",
   "execution_count": null,
   "id": "48921282",
   "metadata": {},
   "outputs": [],
   "source": [
    "# item_cnt_month-i counts lagged by i months.\n",
    "for i in range(1,13):\n",
    "    sales_by_month[f\"month-{i}\"] = sales_by_month[\"date_block_num\"]-i\n",
    "    \n",
    "for i in range(1,13):\n",
    "    left_vars = [f\"month-{i}\", \"shop_id\", \"item_id\"]\n",
    "\n",
    "    sales_by_month = sales_by_month.merge(\n",
    "                sales_by_month[index_vars+[\"item_cnt_month\"]].rename(columns={\"item_cnt_month\":f\"item_cnt_month-{i}\"}),\n",
    "                left_on=left_vars,\n",
    "                right_on=index_vars,\n",
    "                how=\"left\",\n",
    "                suffixes=(\"\",\"_y\"))\n",
    "    sales_by_month = sales_by_month.drop(columns=\"date_block_num_y\")"
   ]
  },
  {
   "cell_type": "code",
   "execution_count": null,
   "id": "a01754df",
   "metadata": {},
   "outputs": [],
   "source": [
    "# item_name_length\n",
    "items[\"item_name_length\"] = items[\"item_name\"].apply(lambda x:len(x.strip()))\n",
    "items[\"item_name_length\"].value_counts().sort_index().plot()"
   ]
  },
  {
   "cell_type": "code",
   "execution_count": null,
   "id": "acc39d78",
   "metadata": {},
   "outputs": [],
   "source": [
    "#Converting item_name, item_category_name, and shop_name to bow\n",
    "\n",
    "def word_counts(df, name_col, bow_name_prefix, top_n_words=None):\n",
    "    vectorisor = CountVectorizer(strip_accents=\"unicode\", lowercase=True)\n",
    "    x = vectorisor.fit_transform(df[name_col])\n",
    "    counts = x.sum(axis=0).tolist()[0]\n",
    "    words = vectorisor.get_feature_names()\n",
    "\n",
    "#     Creates a df from bow index, words and count\n",
    "    bow_reference = (pd.DataFrame(zip(words, counts), columns=[\"words\", \"counts\"])\n",
    "        .reset_index()\n",
    "        .rename(columns={\"index\":\"bow_key\"})\n",
    "        .sort_values(\"counts\",ascending=False))\n",
    "    if top_n_words is None:\n",
    "        min_count = 1\n",
    "    else:\n",
    "        min_count = bow_reference.iloc[top_n_words][\"counts\"]\n",
    "        \n",
    "    bow_reference[\"top_n\"] = bow_reference[\"counts\"] > min_count\n",
    "\n",
    "    #     appends top_n word columns to df\n",
    "    keys = bow_reference[bow_reference[\"top_n\"]][\"bow_key\"]\n",
    "        \n",
    "    out = df.merge(\n",
    "        pd.DataFrame(\n",
    "            x[:, keys].toarray(),\n",
    "            columns=[f\"{bow_name_prefix}{key}\" for key in keys]),\n",
    "        left_index=True,\n",
    "        right_index=True)\n",
    "    \n",
    "    return out, bow_reference"
   ]
  },
  {
   "cell_type": "code",
   "execution_count": null,
   "id": "451197b3",
   "metadata": {},
   "outputs": [],
   "source": [
    "items, item_bow_ref = word_counts(items, \"item_name\", \"item_bow_\", 100)\n",
    "items_cat_bow, items_cat_bow_ref = word_counts(item_categories, \"item_category_name\", \"cat_bow_\")\n",
    "shops_bow, shops_bow_ref = word_counts(shops, \"shop_name\", \"shop_bow_\")"
   ]
  }
 ],
 "metadata": {
  "kernelspec": {
   "display_name": "coursera",
   "language": "python",
   "name": "coursera"
  },
  "language_info": {
   "codemirror_mode": {
    "name": "ipython",
    "version": 3
   },
   "file_extension": ".py",
   "mimetype": "text/x-python",
   "name": "python",
   "nbconvert_exporter": "python",
   "pygments_lexer": "ipython3",
   "version": "3.9.6"
  }
 },
 "nbformat": 4,
 "nbformat_minor": 5
}
