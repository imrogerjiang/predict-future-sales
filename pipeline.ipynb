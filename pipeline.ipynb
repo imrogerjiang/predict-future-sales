{
 "cells": [
  {
   "cell_type": "code",
   "execution_count": 21,
   "id": "b19189d3",
   "metadata": {
    "scrolled": true
   },
   "outputs": [],
   "source": [
    "import os\n",
    "import pandas as pd\n",
    "import numpy as np\n",
    "import matplotlib.pyplot as plt\n",
    "\n",
    "from freetextmethods import word_counts\n",
    "from downcast import downcast_df"
   ]
  },
  {
   "cell_type": "code",
   "execution_count": 22,
   "id": "0192d29f",
   "metadata": {},
   "outputs": [],
   "source": [
    "pd.options.mode.use_inf_as_na = True\n",
    "DATA_FOLDER = '/home/roger/code/kaggle/predict-future-sales/data/'\n",
    "PRED_FOLDER = '/home/roger/code/kaggle/predict-future-sales/predictions/'\n",
    "SUBMISSION_FOLDER = \"comp_submissions/\"\n",
    "index_vars = [\"date_block_num\", \"shop_id\", \"item_id\"]\n",
    "\n",
    "transactions       = pd.read_csv(DATA_FOLDER + 'sales_train.csv')\n",
    "items              = pd.read_csv(DATA_FOLDER + 'items.csv')\n",
    "item_categories    = pd.read_csv(DATA_FOLDER + 'item_categories_en.csv')\n",
    "item_categories_en = pd.read_csv(DATA_FOLDER + 'item_categories_en.csv')\n",
    "shops              = pd.read_csv(DATA_FOLDER + 'shops_en.csv')\n",
    "shops_en           = pd.read_csv(DATA_FOLDER + 'shops_en.csv')\n",
    "test_ids           = pd.read_csv(DATA_FOLDER + 'test.csv')\n",
    "sample             = pd.read_csv(DATA_FOLDER + 'sample_submission.csv')\n",
    "\n",
    "# Adding English translations to item_categories and shops\n",
    "item_categories = item_categories.merge(\n",
    "    item_categories_en[[\"item_category_id\", \"item_category_name\"]]\n",
    "        .rename(columns={\"item_category_name\":\"item_category_name_en\"}),\n",
    "    on=\"item_category_id\")\n",
    "item_categories.head()\n",
    "\n",
    "shops = shops.merge(\n",
    "    shops_en[[\"shop_id\", \"shop_name\"]]\n",
    "        .rename(columns={\"shop_name\":\"shop_name_en\"}),\n",
    "    on=\"shop_id\")"
   ]
  },
  {
   "cell_type": "code",
   "execution_count": 23,
   "id": "40fa755e",
   "metadata": {},
   "outputs": [],
   "source": [
    "ignore_vars = [\n",
    "    \"first_sold_month\",\n",
    "    \"month-1\",\n",
    "    \"month-2\",\n",
    "    \"month-3\",\n",
    "    \"month-4\",\n",
    "    \"month-5\",\n",
    "    \"month-6\",\n",
    "    \"month-7\",\n",
    "    \"month-8\",\n",
    "    \"month-9\",\n",
    "    \"month-10\",\n",
    "    \"month-11\",\n",
    "    \"month-12\",\n",
    "    \n",
    "    \"item_cnt_month_orig\",\n",
    "    \"item_cnt_month_orig_na\",\n",
    "    \"item_name\",\n",
    "    \"item_category_name\",\n",
    "    \"item_category_name_en\",\n",
    "    \"shop_name\",\n",
    "    \"shop_name_en\",\n",
    "]\n",
    "\n",
    "cat_vars = [\n",
    "    \"shop_id\",\n",
    "    \"item_id\",\n",
    "    \"month\",\n",
    "    \"season\",\n",
    "    \"quarter\",\n",
    "    \"item_category_id\",\n",
    "]\n",
    "# cat_vars += [c for c in items_bow.columns if c.startswith(\"item_bow_\")]\n",
    "# cat_vars += [c for c in items_cat_bow.columns if c.startswith(\"cat_bow_\")]\n",
    "# cat_vars += [c for c in shops_bow.columns if c.startswith(\"shop_bow_\")]"
   ]
  },
  {
   "cell_type": "code",
   "execution_count": 24,
   "id": "6eabbc44",
   "metadata": {},
   "outputs": [],
   "source": [
    "def see(shop_id,item_id):\n",
    "    return sales_by_month[(sales_by_month[\"item_id\"]==item_id)&(sales_by_month[\"shop_id\"]==shop_id)]"
   ]
  },
  {
   "cell_type": "code",
   "execution_count": 25,
   "id": "1f0e2bf3",
   "metadata": {},
   "outputs": [
    {
     "name": "stdout",
     "output_type": "stream",
     "text": [
      "date               object\n",
      "date_block_num      int64\n",
      "shop_id             int64\n",
      "item_id             int64\n",
      "item_price        float64\n",
      "item_cnt_day      float64\n",
      "dtype: object \n",
      "\n",
      "item_name           object\n",
      "item_id              int64\n",
      "item_category_id     int64\n",
      "dtype: object \n",
      "\n",
      "item_category_name       object\n",
      "item_category_id          int64\n",
      "item_category_name_en    object\n",
      "dtype: object \n",
      "\n",
      "shop_name       object\n",
      "shop_id          int64\n",
      "shop_name_en    object\n",
      "dtype: object \n",
      "\n"
     ]
    }
   ],
   "source": [
    "print(transactions.dtypes, \"\\n\")\n",
    "print(items.dtypes, \"\\n\")\n",
    "print(item_categories.dtypes, \"\\n\")\n",
    "print(shops.dtypes, \"\\n\")"
   ]
  },
  {
   "cell_type": "markdown",
   "id": "be094bc4",
   "metadata": {},
   "source": [
    "## Contents\n",
    "\n",
    "1. Features before split\n",
    "2. Validation split\n",
    "3. Features after split\n",
    "4. Catboost\n",
    "    1. Feature importance\n",
    "\n",
    "\n",
    "9. Submission"
   ]
  },
  {
   "cell_type": "markdown",
   "id": "413e242d",
   "metadata": {},
   "source": [
    "## 1. Features before split"
   ]
  },
  {
   "cell_type": "code",
   "execution_count": 26,
   "id": "30ed9b7f",
   "metadata": {},
   "outputs": [],
   "source": [
    "# item_name_length\n",
    "items[\"item_name_length\"] = items[\"item_name\"].apply(lambda x:len(x.strip()))\n",
    "# items[\"item_name_length\"].value_counts().sort_index().plot()\n",
    "# plt.title(\"Item name length frequencies\")\n",
    "# plt.plot()"
   ]
  },
  {
   "cell_type": "code",
   "execution_count": 27,
   "id": "fda07a68",
   "metadata": {},
   "outputs": [],
   "source": [
    "items_bow, item_bow_ref = word_counts(items, \"item_name\", \"item_bow_\", words_to_keep=100)\n",
    "items_cat_bow, items_cat_bow_ref = word_counts(item_categories, \"item_category_name\", \"cat_bow_\")\n",
    "shops_bow, shops_bow_ref = word_counts(shops, \"shop_name\", \"shop_bow_\")"
   ]
  },
  {
   "cell_type": "code",
   "execution_count": 28,
   "id": "bca66d78",
   "metadata": {},
   "outputs": [],
   "source": [
    "def int_to_bool(df, search_str=\"_bow_\"):\n",
    "    for c in df.columns:\n",
    "        if c.find(search_str)>-1:\n",
    "            df[c] = df[c].astype(bool)\n",
    "            \n",
    "    return df\n",
    "\n",
    "items_bow = int_to_bool(items_bow)\n",
    "items_cat_bow = int_to_bool(items_cat_bow)\n",
    "shops_bow = int_to_bool(shops_bow)\n",
    "\n",
    "# testing effect without BOW\n",
    "items_bow = items\n",
    "items_cat_bow = item_categories\n",
    "shops_bow = shops"
   ]
  },
  {
   "cell_type": "code",
   "execution_count": 29,
   "id": "52ded355",
   "metadata": {
    "scrolled": true
   },
   "outputs": [],
   "source": [
    "# Aggregate by sale month + append test set\n",
    "sales_by_month = (transactions[index_vars + [\"item_cnt_day\"]]\n",
    "                   .groupby(index_vars)\n",
    "                   .agg([\"sum\", \"count\"])\n",
    "                   .rename(columns={\"item_cnt_day\":\"item_cnt_month\"})\n",
    "                   .reset_index())\n",
    "\n",
    "sales_by_month.columns = [\"sales_cnt_month\" if c[1]==\"count\" else c[0] for c in sales_by_month.columns]\n",
    "sales_by_month[\"item_cnt_month_orig\"] = sales_by_month[\"item_cnt_month\"]\n",
    "sales_by_month[\"item_cnt_month\"] = sales_by_month[\"item_cnt_month\"].clip(0, 20)\n",
    "sales_by_month = sales_by_month[sales_by_month[\"item_cnt_month\"]>0]"
   ]
  },
  {
   "cell_type": "raw",
   "id": "55fa9743",
   "metadata": {},
   "source": [
    "# Adding synthetic 0's\n",
    "VAL_MONTH = 33\n",
    "sales_by_month_skeleton = pd.DataFrame()\n",
    "\n",
    "for m in range(0, VAL_MONTH + 1):\n",
    "    shop_ids = sales_by_month[sales_by_month[\"date_block_num\"] == m][\"shop_id\"].unique()\n",
    "    item_ids = sales_by_month[sales_by_month[\"date_block_num\"] == m][\"item_id\"].unique()\n",
    "    #   items sold cross product shops with sales during month m\n",
    "    cross_join = pd.merge(left=pd.Series(shop_ids, name=\"shop_id\"), \n",
    "                          right=pd.Series(item_ids, name=\"item_id\"), \n",
    "                          how=\"cross\")\n",
    "    cross_join[\"date_block_num\"] = m\n",
    "    if m>0:\n",
    "        cross_join.index = cross_join.index + sales_by_month_skeleton.index.max() + 1\n",
    "    sales_by_month_skeleton = pd.concat([sales_by_month_skeleton, cross_join], axis=\"rows\")\n",
    "\n",
    "sales_by_month_skeleton[\"item_cnt_month_zeros\"] = 0.0\n",
    "\n",
    "sales_by_month = sales_by_month.merge(\n",
    "            sales_by_month_skeleton,\n",
    "            on=index_vars,\n",
    "            how=\"outer\")\n",
    "sales_by_month[\"item_cnt_month\"] = sales_by_month[[\"item_cnt_month\", \"item_cnt_month_zeros\"]].max(axis=\"columns\")\n",
    "sales_by_month = sales_by_month.drop(columns=\"item_cnt_month_zeros\")\n",
    "\n",
    "del cross_join, sales_by_month_skeleton"
   ]
  },
  {
   "cell_type": "code",
   "execution_count": 30,
   "id": "b241f89c",
   "metadata": {},
   "outputs": [],
   "source": [
    "# Creating test set\n",
    "TEST_MONTH = 34\n",
    "\n",
    "test_x = test_ids.drop(columns=\"ID\")\n",
    "test_x[\"date_block_num\"] = TEST_MONTH\n",
    "test_x[\"item_cnt_month\"] = np.nan\n",
    "test_x.index = test_x.index+sales_by_month.index.max()+1"
   ]
  },
  {
   "cell_type": "code",
   "execution_count": 31,
   "id": "88065e94",
   "metadata": {},
   "outputs": [],
   "source": [
    "# Joining training and test sets\n",
    "sales_by_month = pd.concat([sales_by_month, test_x])"
   ]
  },
  {
   "cell_type": "code",
   "execution_count": 32,
   "id": "005784e8",
   "metadata": {},
   "outputs": [],
   "source": [
    "# Months since first sold\n",
    "first_sold_month = (sales_by_month[sales_by_month[\"item_cnt_month\"] > 0]\n",
    "                    .groupby([\"shop_id\", \"item_id\"])\n",
    "                    .agg({\"date_block_num\":\"min\"})\n",
    "                    .rename(columns={\"date_block_num\":\"first_sold_month\"})\n",
    "                    .reset_index())\n",
    "first_sold_month = first_sold_month.astype({\"first_sold_month\":object})\n",
    "sales_by_month = sales_by_month.merge(first_sold_month, on=[\"shop_id\", \"item_id\"], how=\"left\")\n",
    "\n",
    "\n",
    "# 20210904 - See if model performs better if it thinks month 0 is first month of sale\n",
    "sales_by_month[\"months_since_first_sale\"] = sales_by_month[\"date_block_num\"]-sales_by_month[\"first_sold_month\"]\n",
    "# Cannot tell how many months item was sold before dataset started. Impute with nan.\n",
    "# sales_by_month[\"months_since_first_sale\"] = np.where(\n",
    "#     sales_by_month[\"first_sold_month\"] > 0,\n",
    "#     sales_by_month[\"date_block_num\"]-sales_by_month[\"first_sold_month\"],\n",
    "#     np.nan)\n",
    "\n",
    "# (sales_by_month[sales_by_month[\"first_sold_month\"]!=0][\"months_since_first_sale\"]\n",
    "# .value_counts()\n",
    "# .sort_index()\n",
    "# .plot(title=\"Sales by month after first sale\"))\n",
    "# plt.show()"
   ]
  },
  {
   "cell_type": "code",
   "execution_count": 33,
   "id": "07403aed",
   "metadata": {},
   "outputs": [],
   "source": [
    "# Months since last sale excluding current month\n",
    "last_sold_month=pd.DataFrame()\n",
    "for m in range(TEST_MONTH+1):\n",
    "    l = (sales_by_month[(sales_by_month[\"item_cnt_month\"] > 0)&(sales_by_month[\"date_block_num\"]<m)]\n",
    "                       .groupby([\"shop_id\", \"item_id\"])\n",
    "                       .agg({\"date_block_num\":\"max\"})\n",
    "                       .rename(columns={\"date_block_num\":\"last_sold_month\"})\n",
    "                       .reset_index())\n",
    "    l[\"date_block_num\"] = m\n",
    "    if m > 1:\n",
    "        l.index = l.index + last_sold_month.index.max() + 1\n",
    "    last_sold_month = pd.concat([last_sold_month, l], axis=\"rows\")\n",
    "\n",
    "sales_by_month = sales_by_month.merge(last_sold_month, on=index_vars, how=\"left\")\n",
    "sales_by_month[\"months_since_last_sale\"] = sales_by_month[\"date_block_num\"]-sales_by_month[\"last_sold_month\"]\n",
    "del l, last_sold_month"
   ]
  },
  {
   "cell_type": "code",
   "execution_count": 34,
   "id": "fcf8ae2c",
   "metadata": {},
   "outputs": [],
   "source": [
    "# Adding lagged sales\n",
    "# item_cnt_month-i counts lagged by i months.\n",
    "for i in range(1,13):\n",
    "    sales_by_month[f\"month-{i}\"] = sales_by_month[\"date_block_num\"]-i\n",
    "    \n",
    "for i in range(1,13):\n",
    "    left_vars = [f\"month-{i}\", \"shop_id\", \"item_id\"]\n",
    "\n",
    "    sales_by_month = sales_by_month.merge(\n",
    "                sales_by_month[index_vars+[\"item_cnt_month\"]].rename(columns={\"item_cnt_month\":f\"item_cnt_month-{i}\"}),\n",
    "                left_on=left_vars,\n",
    "                right_on=index_vars,\n",
    "                how=\"left\",\n",
    "                suffixes=(\"\",\"_y\"))\n",
    "    \n",
    "#   Replaces nan with 0 if item has sold before month-i\n",
    "    sales_by_month[f\"item_cnt_month-{i}\"] = np.select(\n",
    "        condlist=[sales_by_month[f\"month-{i}\"] >= sales_by_month[f\"first_sold_month\"]],\n",
    "        choicelist=[np.nan_to_num(sales_by_month[f\"item_cnt_month-{i}\"])],\n",
    "        default=np.nan\n",
    "    )\n",
    "    \n",
    "    sales_by_month = sales_by_month.drop(columns=\"date_block_num_y\")"
   ]
  },
  {
   "cell_type": "code",
   "execution_count": 35,
   "id": "3abf76f9",
   "metadata": {},
   "outputs": [],
   "source": [
    "# Adding 1 month lagged number of sales\n",
    "\n",
    "sales_by_month = sales_by_month.merge(\n",
    "                sales_by_month[index_vars+[\"sales_cnt_month\"]].rename(columns={\"sales_cnt_month\":f\"last_mth_sale_cnt\"}),\n",
    "                left_on=[f\"month-1\", \"shop_id\", \"item_id\"],\n",
    "                right_on=index_vars,\n",
    "                how=\"left\",\n",
    "                suffixes=(\"\",\"_y\"))\n",
    "sales_by_month = sales_by_month.drop(columns=[\"date_block_num_y\"])\n",
    "# \"sales_cnt_month\", "
   ]
  },
  {
   "cell_type": "code",
   "execution_count": 36,
   "id": "4dbb8fc2",
   "metadata": {
    "scrolled": true
   },
   "outputs": [],
   "source": [
    "def encode_mean(df, agg_levels, target_var:str ,time_var:str ,var_name:str):\n",
    "    \n",
    "    if type(agg_levels) == str:\n",
    "        agg_levels = [agg_levels]\n",
    "    \n",
    "    means = pd.DataFrame()\n",
    "    for m in range(TEST_MONTH):\n",
    "        month_means = (df[sales_by_month[time_var]<=m]\n",
    "                       .groupby(agg_levels)\n",
    "                       .agg({target_var:\"mean\"})\n",
    "                       .reset_index())\n",
    "        month_means[time_var] = m + 1\n",
    "        if m > 0:\n",
    "            month_means.index = month_means.index + means.index.max() + 1\n",
    "        means = pd.concat([means, month_means], axis=\"rows\")\n",
    "    means=means.rename(columns={target_var:var_name})\n",
    "    \n",
    "    return df.merge(means, on=agg_levels+[time_var], how=\"left\")"
   ]
  },
  {
   "cell_type": "code",
   "execution_count": 37,
   "id": "ec2bce40",
   "metadata": {
    "scrolled": true
   },
   "outputs": [
    {
     "name": "stdout",
     "output_type": "stream",
     "text": [
      "Memory usage of df before: 593 MB\n",
      "Memory usage of df after: 115 MB\n"
     ]
    }
   ],
   "source": [
    "sales_by_month = downcast_df(sales_by_month, categorical_cols=cat_vars, verbose=\"dataframe\")\n",
    "\n",
    "\n",
    "sales_by_month = sales_by_month.merge(items[[\"item_id\", \"item_category_id\"]],\n",
    "                                      on=\"item_id\",\n",
    "                                      how=\"left\")\n",
    "\n",
    "sales_by_month = encode_mean(sales_by_month, agg_levels=\"item_id\", \n",
    "                             target_var=\"item_cnt_month\", time_var=\"date_block_num\",\n",
    "                             var_name=\"item_rolling_mean\")\n",
    "sales_by_month = encode_mean(sales_by_month, agg_levels=\"shop_id\", \n",
    "                             target_var=\"item_cnt_month\", time_var=\"date_block_num\",\n",
    "                             var_name=\"shop_rolling_mean\")"
   ]
  },
  {
   "cell_type": "code",
   "execution_count": 38,
   "id": "1b61d19e",
   "metadata": {
    "scrolled": true
   },
   "outputs": [
    {
     "data": {
      "text/html": [
       "<div>\n",
       "<style scoped>\n",
       "    .dataframe tbody tr th:only-of-type {\n",
       "        vertical-align: middle;\n",
       "    }\n",
       "\n",
       "    .dataframe tbody tr th {\n",
       "        vertical-align: top;\n",
       "    }\n",
       "\n",
       "    .dataframe thead th {\n",
       "        text-align: right;\n",
       "    }\n",
       "</style>\n",
       "<table border=\"1\" class=\"dataframe\">\n",
       "  <thead>\n",
       "    <tr style=\"text-align: right;\">\n",
       "      <th></th>\n",
       "      <th>date_block_num</th>\n",
       "      <th>shop_id</th>\n",
       "      <th>item_id</th>\n",
       "      <th>item_cnt_month</th>\n",
       "      <th>sales_cnt_month</th>\n",
       "      <th>item_cnt_month_orig</th>\n",
       "      <th>first_sold_month</th>\n",
       "      <th>months_since_first_sale</th>\n",
       "      <th>last_sold_month</th>\n",
       "      <th>months_since_last_sale</th>\n",
       "      <th>...</th>\n",
       "      <th>item_cnt_month-9</th>\n",
       "      <th>item_cnt_month-10</th>\n",
       "      <th>item_cnt_month-11</th>\n",
       "      <th>item_cnt_month-12</th>\n",
       "      <th>last_mth_sale_cnt</th>\n",
       "      <th>item_rolling_mean</th>\n",
       "      <th>shop_rolling_mean</th>\n",
       "      <th>cat_rolling_mean</th>\n",
       "      <th>item_shop_rolling_mean</th>\n",
       "      <th>cat_shop_rolling_mean</th>\n",
       "    </tr>\n",
       "  </thead>\n",
       "  <tbody>\n",
       "    <tr>\n",
       "      <th>0</th>\n",
       "      <td>0</td>\n",
       "      <td>0</td>\n",
       "      <td>32</td>\n",
       "      <td>6.0</td>\n",
       "      <td>4.0</td>\n",
       "      <td>6.0</td>\n",
       "      <td>0.0</td>\n",
       "      <td>0.0</td>\n",
       "      <td>NaN</td>\n",
       "      <td>NaN</td>\n",
       "      <td>...</td>\n",
       "      <td>NaN</td>\n",
       "      <td>NaN</td>\n",
       "      <td>NaN</td>\n",
       "      <td>NaN</td>\n",
       "      <td>NaN</td>\n",
       "      <td>NaN</td>\n",
       "      <td>NaN</td>\n",
       "      <td>NaN</td>\n",
       "      <td>NaN</td>\n",
       "      <td>NaN</td>\n",
       "    </tr>\n",
       "    <tr>\n",
       "      <th>1</th>\n",
       "      <td>0</td>\n",
       "      <td>0</td>\n",
       "      <td>33</td>\n",
       "      <td>3.0</td>\n",
       "      <td>3.0</td>\n",
       "      <td>3.0</td>\n",
       "      <td>0.0</td>\n",
       "      <td>0.0</td>\n",
       "      <td>NaN</td>\n",
       "      <td>NaN</td>\n",
       "      <td>...</td>\n",
       "      <td>NaN</td>\n",
       "      <td>NaN</td>\n",
       "      <td>NaN</td>\n",
       "      <td>NaN</td>\n",
       "      <td>NaN</td>\n",
       "      <td>NaN</td>\n",
       "      <td>NaN</td>\n",
       "      <td>NaN</td>\n",
       "      <td>NaN</td>\n",
       "      <td>NaN</td>\n",
       "    </tr>\n",
       "    <tr>\n",
       "      <th>2</th>\n",
       "      <td>0</td>\n",
       "      <td>0</td>\n",
       "      <td>35</td>\n",
       "      <td>1.0</td>\n",
       "      <td>1.0</td>\n",
       "      <td>1.0</td>\n",
       "      <td>0.0</td>\n",
       "      <td>0.0</td>\n",
       "      <td>NaN</td>\n",
       "      <td>NaN</td>\n",
       "      <td>...</td>\n",
       "      <td>NaN</td>\n",
       "      <td>NaN</td>\n",
       "      <td>NaN</td>\n",
       "      <td>NaN</td>\n",
       "      <td>NaN</td>\n",
       "      <td>NaN</td>\n",
       "      <td>NaN</td>\n",
       "      <td>NaN</td>\n",
       "      <td>NaN</td>\n",
       "      <td>NaN</td>\n",
       "    </tr>\n",
       "    <tr>\n",
       "      <th>3</th>\n",
       "      <td>0</td>\n",
       "      <td>0</td>\n",
       "      <td>43</td>\n",
       "      <td>1.0</td>\n",
       "      <td>1.0</td>\n",
       "      <td>1.0</td>\n",
       "      <td>0.0</td>\n",
       "      <td>0.0</td>\n",
       "      <td>NaN</td>\n",
       "      <td>NaN</td>\n",
       "      <td>...</td>\n",
       "      <td>NaN</td>\n",
       "      <td>NaN</td>\n",
       "      <td>NaN</td>\n",
       "      <td>NaN</td>\n",
       "      <td>NaN</td>\n",
       "      <td>NaN</td>\n",
       "      <td>NaN</td>\n",
       "      <td>NaN</td>\n",
       "      <td>NaN</td>\n",
       "      <td>NaN</td>\n",
       "    </tr>\n",
       "    <tr>\n",
       "      <th>4</th>\n",
       "      <td>0</td>\n",
       "      <td>0</td>\n",
       "      <td>51</td>\n",
       "      <td>2.0</td>\n",
       "      <td>2.0</td>\n",
       "      <td>2.0</td>\n",
       "      <td>0.0</td>\n",
       "      <td>0.0</td>\n",
       "      <td>NaN</td>\n",
       "      <td>NaN</td>\n",
       "      <td>...</td>\n",
       "      <td>NaN</td>\n",
       "      <td>NaN</td>\n",
       "      <td>NaN</td>\n",
       "      <td>NaN</td>\n",
       "      <td>NaN</td>\n",
       "      <td>NaN</td>\n",
       "      <td>NaN</td>\n",
       "      <td>NaN</td>\n",
       "      <td>NaN</td>\n",
       "      <td>NaN</td>\n",
       "    </tr>\n",
       "    <tr>\n",
       "      <th>...</th>\n",
       "      <td>...</td>\n",
       "      <td>...</td>\n",
       "      <td>...</td>\n",
       "      <td>...</td>\n",
       "      <td>...</td>\n",
       "      <td>...</td>\n",
       "      <td>...</td>\n",
       "      <td>...</td>\n",
       "      <td>...</td>\n",
       "      <td>...</td>\n",
       "      <td>...</td>\n",
       "      <td>...</td>\n",
       "      <td>...</td>\n",
       "      <td>...</td>\n",
       "      <td>...</td>\n",
       "      <td>...</td>\n",
       "      <td>...</td>\n",
       "      <td>...</td>\n",
       "      <td>...</td>\n",
       "      <td>...</td>\n",
       "      <td>...</td>\n",
       "    </tr>\n",
       "    <tr>\n",
       "      <th>1819821</th>\n",
       "      <td>34</td>\n",
       "      <td>45</td>\n",
       "      <td>18454</td>\n",
       "      <td>NaN</td>\n",
       "      <td>NaN</td>\n",
       "      <td>NaN</td>\n",
       "      <td>23.0</td>\n",
       "      <td>11.0</td>\n",
       "      <td>33.0</td>\n",
       "      <td>1.0</td>\n",
       "      <td>...</td>\n",
       "      <td>1.0</td>\n",
       "      <td>2.0</td>\n",
       "      <td>4.0</td>\n",
       "      <td>NaN</td>\n",
       "      <td>1.0</td>\n",
       "      <td>2.238281</td>\n",
       "      <td>1.71875</td>\n",
       "      <td>1.403320</td>\n",
       "      <td>1.799805</td>\n",
       "      <td>1.272461</td>\n",
       "    </tr>\n",
       "    <tr>\n",
       "      <th>1819822</th>\n",
       "      <td>34</td>\n",
       "      <td>45</td>\n",
       "      <td>16188</td>\n",
       "      <td>NaN</td>\n",
       "      <td>NaN</td>\n",
       "      <td>NaN</td>\n",
       "      <td>NaN</td>\n",
       "      <td>NaN</td>\n",
       "      <td>NaN</td>\n",
       "      <td>NaN</td>\n",
       "      <td>...</td>\n",
       "      <td>NaN</td>\n",
       "      <td>NaN</td>\n",
       "      <td>NaN</td>\n",
       "      <td>NaN</td>\n",
       "      <td>NaN</td>\n",
       "      <td>1.000000</td>\n",
       "      <td>1.71875</td>\n",
       "      <td>1.617188</td>\n",
       "      <td>NaN</td>\n",
       "      <td>1.260742</td>\n",
       "    </tr>\n",
       "    <tr>\n",
       "      <th>1819823</th>\n",
       "      <td>34</td>\n",
       "      <td>45</td>\n",
       "      <td>15757</td>\n",
       "      <td>NaN</td>\n",
       "      <td>NaN</td>\n",
       "      <td>NaN</td>\n",
       "      <td>0.0</td>\n",
       "      <td>34.0</td>\n",
       "      <td>25.0</td>\n",
       "      <td>9.0</td>\n",
       "      <td>...</td>\n",
       "      <td>1.0</td>\n",
       "      <td>1.0</td>\n",
       "      <td>0.0</td>\n",
       "      <td>0.0</td>\n",
       "      <td>NaN</td>\n",
       "      <td>1.163086</td>\n",
       "      <td>1.71875</td>\n",
       "      <td>1.403320</td>\n",
       "      <td>1.166992</td>\n",
       "      <td>1.272461</td>\n",
       "    </tr>\n",
       "    <tr>\n",
       "      <th>1819824</th>\n",
       "      <td>34</td>\n",
       "      <td>45</td>\n",
       "      <td>19648</td>\n",
       "      <td>NaN</td>\n",
       "      <td>NaN</td>\n",
       "      <td>NaN</td>\n",
       "      <td>NaN</td>\n",
       "      <td>NaN</td>\n",
       "      <td>NaN</td>\n",
       "      <td>NaN</td>\n",
       "      <td>...</td>\n",
       "      <td>NaN</td>\n",
       "      <td>NaN</td>\n",
       "      <td>NaN</td>\n",
       "      <td>NaN</td>\n",
       "      <td>NaN</td>\n",
       "      <td>1.302734</td>\n",
       "      <td>1.71875</td>\n",
       "      <td>1.813477</td>\n",
       "      <td>NaN</td>\n",
       "      <td>1.474609</td>\n",
       "    </tr>\n",
       "    <tr>\n",
       "      <th>1819825</th>\n",
       "      <td>34</td>\n",
       "      <td>45</td>\n",
       "      <td>969</td>\n",
       "      <td>NaN</td>\n",
       "      <td>NaN</td>\n",
       "      <td>NaN</td>\n",
       "      <td>17.0</td>\n",
       "      <td>17.0</td>\n",
       "      <td>19.0</td>\n",
       "      <td>15.0</td>\n",
       "      <td>...</td>\n",
       "      <td>0.0</td>\n",
       "      <td>0.0</td>\n",
       "      <td>0.0</td>\n",
       "      <td>0.0</td>\n",
       "      <td>NaN</td>\n",
       "      <td>1.923828</td>\n",
       "      <td>1.71875</td>\n",
       "      <td>1.506836</td>\n",
       "      <td>1.666992</td>\n",
       "      <td>1.275391</td>\n",
       "    </tr>\n",
       "  </tbody>\n",
       "</table>\n",
       "<p>1819826 rows × 40 columns</p>\n",
       "</div>"
      ],
      "text/plain": [
       "         date_block_num shop_id  item_id  item_cnt_month  sales_cnt_month  \\\n",
       "0                     0       0       32             6.0              4.0   \n",
       "1                     0       0       33             3.0              3.0   \n",
       "2                     0       0       35             1.0              1.0   \n",
       "3                     0       0       43             1.0              1.0   \n",
       "4                     0       0       51             2.0              2.0   \n",
       "...                 ...     ...      ...             ...              ...   \n",
       "1819821              34      45    18454             NaN              NaN   \n",
       "1819822              34      45    16188             NaN              NaN   \n",
       "1819823              34      45    15757             NaN              NaN   \n",
       "1819824              34      45    19648             NaN              NaN   \n",
       "1819825              34      45      969             NaN              NaN   \n",
       "\n",
       "         item_cnt_month_orig  first_sold_month  months_since_first_sale  \\\n",
       "0                        6.0               0.0                      0.0   \n",
       "1                        3.0               0.0                      0.0   \n",
       "2                        1.0               0.0                      0.0   \n",
       "3                        1.0               0.0                      0.0   \n",
       "4                        2.0               0.0                      0.0   \n",
       "...                      ...               ...                      ...   \n",
       "1819821                  NaN              23.0                     11.0   \n",
       "1819822                  NaN               NaN                      NaN   \n",
       "1819823                  NaN               0.0                     34.0   \n",
       "1819824                  NaN               NaN                      NaN   \n",
       "1819825                  NaN              17.0                     17.0   \n",
       "\n",
       "         last_sold_month  months_since_last_sale  ...  item_cnt_month-9  \\\n",
       "0                    NaN                     NaN  ...               NaN   \n",
       "1                    NaN                     NaN  ...               NaN   \n",
       "2                    NaN                     NaN  ...               NaN   \n",
       "3                    NaN                     NaN  ...               NaN   \n",
       "4                    NaN                     NaN  ...               NaN   \n",
       "...                  ...                     ...  ...               ...   \n",
       "1819821             33.0                     1.0  ...               1.0   \n",
       "1819822              NaN                     NaN  ...               NaN   \n",
       "1819823             25.0                     9.0  ...               1.0   \n",
       "1819824              NaN                     NaN  ...               NaN   \n",
       "1819825             19.0                    15.0  ...               0.0   \n",
       "\n",
       "         item_cnt_month-10  item_cnt_month-11  item_cnt_month-12  \\\n",
       "0                      NaN                NaN                NaN   \n",
       "1                      NaN                NaN                NaN   \n",
       "2                      NaN                NaN                NaN   \n",
       "3                      NaN                NaN                NaN   \n",
       "4                      NaN                NaN                NaN   \n",
       "...                    ...                ...                ...   \n",
       "1819821                2.0                4.0                NaN   \n",
       "1819822                NaN                NaN                NaN   \n",
       "1819823                1.0                0.0                0.0   \n",
       "1819824                NaN                NaN                NaN   \n",
       "1819825                0.0                0.0                0.0   \n",
       "\n",
       "         last_mth_sale_cnt  item_rolling_mean  shop_rolling_mean  \\\n",
       "0                      NaN                NaN                NaN   \n",
       "1                      NaN                NaN                NaN   \n",
       "2                      NaN                NaN                NaN   \n",
       "3                      NaN                NaN                NaN   \n",
       "4                      NaN                NaN                NaN   \n",
       "...                    ...                ...                ...   \n",
       "1819821                1.0           2.238281            1.71875   \n",
       "1819822                NaN           1.000000            1.71875   \n",
       "1819823                NaN           1.163086            1.71875   \n",
       "1819824                NaN           1.302734            1.71875   \n",
       "1819825                NaN           1.923828            1.71875   \n",
       "\n",
       "         cat_rolling_mean  item_shop_rolling_mean  cat_shop_rolling_mean  \n",
       "0                     NaN                     NaN                    NaN  \n",
       "1                     NaN                     NaN                    NaN  \n",
       "2                     NaN                     NaN                    NaN  \n",
       "3                     NaN                     NaN                    NaN  \n",
       "4                     NaN                     NaN                    NaN  \n",
       "...                   ...                     ...                    ...  \n",
       "1819821          1.403320                1.799805               1.272461  \n",
       "1819822          1.617188                     NaN               1.260742  \n",
       "1819823          1.403320                1.166992               1.272461  \n",
       "1819824          1.813477                     NaN               1.474609  \n",
       "1819825          1.506836                1.666992               1.275391  \n",
       "\n",
       "[1819826 rows x 40 columns]"
      ]
     },
     "execution_count": 38,
     "metadata": {},
     "output_type": "execute_result"
    }
   ],
   "source": [
    "sales_by_month = encode_mean(sales_by_month, agg_levels=\"item_category_id\",\n",
    "                             target_var=\"item_cnt_month\", time_var=\"date_block_num\",\n",
    "                             var_name=\"cat_rolling_mean\")\n",
    "sales_by_month = encode_mean(sales_by_month, agg_levels=[\"item_id\", \"shop_id\"], \n",
    "                             target_var=\"item_cnt_month\", time_var=\"date_block_num\",\n",
    "                             var_name=\"item_shop_rolling_mean\")\n",
    "sales_by_month = encode_mean(sales_by_month, agg_levels=[\"item_category_id\", \"shop_id\"], \n",
    "                             target_var=\"item_cnt_month\", time_var=\"date_block_num\",\n",
    "                             var_name=\"cat_shop_rolling_mean\")\n",
    "\n",
    "sales_by_month = sales_by_month.drop(columns=\"item_category_id\")"
   ]
  },
  {
   "cell_type": "code",
   "execution_count": null,
   "id": "76487a0b",
   "metadata": {},
   "outputs": [],
   "source": [
    "start_month = \"01.01.2013\"\n",
    "seasons={\n",
    "    \"01\":\"summer\",\n",
    "    \"02\":\"summer\",\n",
    "    \"03\":\"autumn\",\n",
    "    \"04\":\"autumn\",\n",
    "    \"05\":\"autumn\",\n",
    "    \"06\":\"winter\",\n",
    "    \"07\":\"winter\",\n",
    "    \"08\":\"winter\",\n",
    "    \"09\":\"spring\",\n",
    "    \"10\":\"spring\",\n",
    "    \"11\":\"spring\",\n",
    "    \"12\":\"summer\",\n",
    "}\n",
    "\n",
    "sales_by_month[\"month\"] = sales_by_month[\"date_block_num\"].apply(lambda x: f\"{x%12 + 1:02}\")\n",
    "sales_by_month[\"season\"] = sales_by_month[\"month\"].map(seasons)\n",
    "sales_by_month[\"quarter\"] = (sales_by_month[\"month\"].apply(int)+2)//3\n",
    "sales_by_month[\"quarter\"] = sales_by_month[\"quarter\"].apply(str)\n",
    "\n",
    "# fig, ax = plt.subplots(1, 3)\n",
    "# fig.set_size_inches(12,6)\n",
    "# ax[0].hist(sales_by_month[\"month\"].sort_values())\n",
    "# ax[0].set_title(label=\"Frequencies by month\")\n",
    "# ax[1].hist(sales_by_month[\"season\"].sort_values())\n",
    "# ax[1].set_title(label=\"Frequencies by season\")\n",
    "# ax[2].hist(sales_by_month[\"quarter\"].sort_values())\n",
    "# ax[2].set_title(label=\"Frequencies by quarter\")\n",
    "# plt.plot()"
   ]
  },
  {
   "cell_type": "markdown",
   "id": "b99fb9ac",
   "metadata": {},
   "source": [
    "## 2. Validation Split"
   ]
  },
  {
   "cell_type": "code",
   "execution_count": null,
   "id": "1ccb3f97",
   "metadata": {},
   "outputs": [],
   "source": [
    "# import sys\n",
    "# import importlib\n",
    "# importlib.reload(sys.modules['validationsplit'])\n",
    "from validationsplit import split_train_val, split_x_y, val_score"
   ]
  },
  {
   "cell_type": "code",
   "execution_count": null,
   "id": "35c6e8ad",
   "metadata": {},
   "outputs": [],
   "source": [
    "sales_by_month = downcast_df(sales_by_month, categorical_cols=cat_vars)\n",
    "items_bow = downcast_df(items_bow, categorical_cols=cat_vars)\n",
    "items_cat_bow = downcast_df(items_cat_bow, categorical_cols=cat_vars)\n",
    "shops_bow = downcast_df(shops_bow, categorical_cols=cat_vars)"
   ]
  },
  {
   "cell_type": "code",
   "execution_count": null,
   "id": "1f7ae72f",
   "metadata": {},
   "outputs": [],
   "source": [
    "ds = (sales_by_month\n",
    "    .merge(items_bow, on=\"item_id\", how=\"left\")\n",
    "    .merge(items_cat_bow, on=\"item_category_id\", how=\"left\")\n",
    "    .merge(shops_bow, on=\"shop_id\", how=\"left\")\n",
    "    .drop(columns=ignore_vars))"
   ]
  },
  {
   "cell_type": "code",
   "execution_count": null,
   "id": "f44e5ef0",
   "metadata": {},
   "outputs": [],
   "source": [
    "bow_cols = [c for c in ds.columns if c.find(\"_bow_\")>-1]\n",
    "not_bow_cols = [c for c in ds.columns if c.find(\"_bow_\")==-1]"
   ]
  },
  {
   "cell_type": "code",
   "execution_count": null,
   "id": "4df79dee",
   "metadata": {},
   "outputs": [],
   "source": [
    "train, val = split_train_val(ds, 33)\n",
    "_, test = split_train_val(ds, 34)\n",
    "train_x, train_y = split_x_y(train, \"item_cnt_month\")\n",
    "val_x, val_y = split_x_y(val, \"item_cnt_month\")\n",
    "test_x, _ = split_x_y(test, \"item_cnt_month\")"
   ]
  },
  {
   "cell_type": "code",
   "execution_count": null,
   "id": "b0c82e39",
   "metadata": {},
   "outputs": [],
   "source": [
    "del _, train, val"
   ]
  },
  {
   "cell_type": "markdown",
   "id": "0f896e07",
   "metadata": {},
   "source": [
    "## 3. Features after split"
   ]
  },
  {
   "cell_type": "markdown",
   "id": "dd711688",
   "metadata": {},
   "source": [
    "## 3A. EDA"
   ]
  },
  {
   "cell_type": "markdown",
   "id": "2d6d6c13",
   "metadata": {},
   "source": [
    "## 4. Fitting catboost"
   ]
  },
  {
   "cell_type": "code",
   "execution_count": null,
   "id": "4ea7a8f9",
   "metadata": {},
   "outputs": [],
   "source": [
    "import catboost as cb\n",
    "MODEL_FOLDER = \"catboost_models/\""
   ]
  },
  {
   "cell_type": "code",
   "execution_count": null,
   "id": "d77a9b1d",
   "metadata": {},
   "outputs": [],
   "source": [
    "model = cb.CatBoostRegressor(learning_rate=0.03\n",
    "                            ,loss_function=\"RMSE\"\n",
    "                            ,iterations=2000\n",
    "                            ,task_type=\"GPU\"\n",
    "                            ,boosting_type=\"Plain\"\n",
    "                            ,max_ctr_complexity=2)"
   ]
  },
  {
   "cell_type": "code",
   "execution_count": null,
   "id": "25aea7f7",
   "metadata": {},
   "outputs": [],
   "source": [
    "train_pool = cb.Pool(train_x,\n",
    "                     train_y,\n",
    "                     cat_features=cat_vars)\n",
    "val_pool = cb.Pool(val_x,\n",
    "                   val_y,\n",
    "                   cat_features=cat_vars)"
   ]
  },
  {
   "cell_type": "code",
   "execution_count": null,
   "id": "f7094fa6",
   "metadata": {
    "scrolled": true
   },
   "outputs": [],
   "source": [
    "MODEL_NAME = \"cb_20210904_0\"\n",
    "model.fit(train_pool, eval_set=val_pool)\n",
    "model.save_model(MODEL_FOLDER+MODEL_NAME, format=\"cbm\")\n",
    "# model.load_model(MODEL_FOLDER+MODEL_NAME, format=\"cbm\")"
   ]
  },
  {
   "cell_type": "code",
   "execution_count": null,
   "id": "ad99b128",
   "metadata": {},
   "outputs": [],
   "source": [
    "pred = pd.Series(model.predict(val_pool))\n",
    "print(val_score(pred,val_y))"
   ]
  },
  {
   "cell_type": "markdown",
   "id": "09283ff0",
   "metadata": {},
   "source": [
    "## 4A Feature Importance"
   ]
  },
  {
   "cell_type": "code",
   "execution_count": null,
   "id": "db53244d",
   "metadata": {},
   "outputs": [],
   "source": [
    "fi = model.get_feature_importance(train_pool, type=\"LossFunctionChange\")\n",
    "feature_scores = pd.DataFrame(list(zip(train_x.dtypes.index, fi )),\n",
    "                                        columns=['feature','score'])\n",
    "feature_scores.sort_values(\"score\", ascending=False, inplace=True)"
   ]
  },
  {
   "cell_type": "code",
   "execution_count": null,
   "id": "0410bf73",
   "metadata": {
    "scrolled": true
   },
   "outputs": [],
   "source": [
    "feature_scores.head(50)"
   ]
  },
  {
   "cell_type": "code",
   "execution_count": null,
   "id": "237868d8",
   "metadata": {},
   "outputs": [],
   "source": [
    "# feature_scores.to_csv(MODEL_FOLDER+\"basic_cb_model_LossFunctionChange.csv\")\n",
    "feature_scores = pd.read_csv(MODEL_FOLDER+\"basic_cb_model_LossFunctionChange.csv\", index_col=0)"
   ]
  },
  {
   "cell_type": "code",
   "execution_count": null,
   "id": "be2df152",
   "metadata": {
    "scrolled": false
   },
   "outputs": [],
   "source": [
    "plt.figure(figsize=(12,6))\n",
    "plt.bar(feature_scores[\"feature\"].head(50), feature_scores[\"score\"].head(50))\n",
    "plt.xticks(rotation=90)\n",
    "plt.show()"
   ]
  },
  {
   "cell_type": "code",
   "execution_count": null,
   "id": "7c270f5f",
   "metadata": {},
   "outputs": [],
   "source": [
    "feature_scores[feature_scores[\"feature\"].str.find(\"_bow_\")==-1]"
   ]
  },
  {
   "cell_type": "code",
   "execution_count": null,
   "id": "95f55500",
   "metadata": {},
   "outputs": [],
   "source": [
    "feature_scores[feature_scores[\"feature\"].str.find(\"_bow_\")>-1].head(20)"
   ]
  },
  {
   "cell_type": "code",
   "execution_count": null,
   "id": "a165c317",
   "metadata": {
    "scrolled": true
   },
   "outputs": [],
   "source": [
    "interaction = model.get_feature_importance(\n",
    "    train_pool, type=\"Interaction\")\n",
    "interaction[:,0]."
   ]
  },
  {
   "cell_type": "code",
   "execution_count": null,
   "id": "b02d3f11",
   "metadata": {},
   "outputs": [],
   "source": [
    "fi_new = []\n",
    "for k,item in enumerate(fi):  \n",
    "    first = test_x.dtypes.index[interaction[k][0]]\n",
    "    second = test_x.dtypes.index[interaction[k][1]]\n",
    "    if first != second:\n",
    "        fi_new.append([first + \"/\" + second, interaction[k][2]])\n",
    "feature_score = pd.DataFrame(fi_new,columns=['Feature-Pair','Score'])"
   ]
  },
  {
   "cell_type": "code",
   "execution_count": null,
   "id": "ce128bc1",
   "metadata": {
    "scrolled": false
   },
   "outputs": [],
   "source": [
    "feature_score = feature_score.sort_values(by='Score', ascending=False, inplace=False, kind='quicksort', na_position='last')\n",
    "plt.rcParams[\"figure.figsize\"] = (16,7)\n",
    "ax = feature_score.head(50).plot('Feature-Pair', 'Score', kind='bar', color='c')\n",
    "ax.set_title(\"Pairwise Feature Importance\", fontsize = 14)\n",
    "ax.set_xlabel(\"features Pair\")\n",
    "plt.show()"
   ]
  },
  {
   "cell_type": "markdown",
   "id": "83185be0",
   "metadata": {},
   "source": [
    "## 5. Model prediction analysis"
   ]
  },
  {
   "cell_type": "code",
   "execution_count": null,
   "id": "69bc8a7f",
   "metadata": {},
   "outputs": [],
   "source": [
    "pred = pred.rename(\"y_hat\")\n",
    "val_y = val_y.rename(\"y\")\n",
    "pred.index = val_y.index\n",
    "results = pd.concat([val_x, pred, val_y], axis=\"columns\")"
   ]
  },
  {
   "cell_type": "code",
   "execution_count": null,
   "id": "2f58532b",
   "metadata": {},
   "outputs": [],
   "source": [
    "results[\"new_items\"] = results[\"months_since_first_sale\"]==1"
   ]
  },
  {
   "cell_type": "code",
   "execution_count": null,
   "id": "a0fc327a",
   "metadata": {},
   "outputs": [],
   "source": [
    "subset = results.sample(frac=0.05)\n",
    "plt.scatter(\n",
    "    x=subset[\"y_hat\"].clip(0,20), \n",
    "    y=subset[\"y\"].clip(0,20)+np.random.rand(subset.shape[0])-0.5,\n",
    "    c=subset[\"new_items\"]\n",
    ")\n",
    "plt.xlabel(\"Predicted Values\")\n",
    "plt.ylabel(\"Actual Values\")\n",
    "plt.show()"
   ]
  },
  {
   "cell_type": "code",
   "execution_count": null,
   "id": "a7c7f5ff",
   "metadata": {},
   "outputs": [],
   "source": [
    "results[\"diff\"]=results[\"y_hat\"].clip(0,20)-results[\"y\"].clip(0,20)"
   ]
  },
  {
   "cell_type": "code",
   "execution_count": null,
   "id": "a65b7216",
   "metadata": {},
   "outputs": [],
   "source": [
    "results=results.sort_values(\"diff\")\n",
    "results"
   ]
  },
  {
   "cell_type": "code",
   "execution_count": null,
   "id": "fe0baf0c",
   "metadata": {},
   "outputs": [],
   "source": [
    "results[results['y']==0][\"diff\"].describe(percentiles=[0.01, 0.05, 0.25, 0.75, 0.95, 0.99])"
   ]
  },
  {
   "cell_type": "code",
   "execution_count": null,
   "id": "2fd5b50b",
   "metadata": {},
   "outputs": [],
   "source": [
    "plt.hist(results[results['y']==0][\"diff\"],bins=100)\n",
    "plt.show()"
   ]
  },
  {
   "cell_type": "markdown",
   "id": "03d3e551",
   "metadata": {},
   "source": [
    "## 9. Submission"
   ]
  },
  {
   "cell_type": "code",
   "execution_count": null,
   "id": "09054fae",
   "metadata": {
    "scrolled": false
   },
   "outputs": [],
   "source": [
    "# Finding values not in training data\n",
    "\n",
    "test_items = (test_ids[\"item_id\"]\n",
    "              .value_counts()\n",
    "              .reset_index()\n",
    "              .rename(columns={\"item_id\":\"test\", \"index\":\"item_id\"}))\n",
    "train_items = (transactions[\"item_id\"]\n",
    "              .value_counts()\n",
    "              .reset_index()\n",
    "              .rename(columns={\"item_id\":\"train\", \"index\":\"item_id\"}))\n",
    "\n",
    "item_overlap = test_items.merge(train_items, on=\"item_id\", how=\"outer\")\n",
    "\n",
    "print(\"Items only in test set:\", item_overlap[\"train\"].isna().sum())\n",
    "print(\"Items only in train set:\", item_overlap[\"test\"].isna().sum())\n",
    "print(\"Items in both test and train set:\", (item_overlap[\"train\"].notna()&item_overlap[\"test\"].notna()).sum())\n",
    "print(\"Items in test set and items ds: 5100\")"
   ]
  },
  {
   "cell_type": "code",
   "execution_count": null,
   "id": "34aa764c",
   "metadata": {},
   "outputs": [],
   "source": [
    "test_y = pd.Series(\n",
    "    model.predict(test_x).clip(0,20),\n",
    "    index=test_x.index,\n",
    "    name=\"item_cnt_month\")"
   ]
  },
  {
   "cell_type": "code",
   "execution_count": null,
   "id": "95362362",
   "metadata": {},
   "outputs": [],
   "source": [
    "test_y=pd.concat([test_x[[\"shop_id\",\"item_id\"]],test_y], axis=\"columns\")"
   ]
  },
  {
   "cell_type": "code",
   "execution_count": null,
   "id": "99e7ea50",
   "metadata": {
    "scrolled": true
   },
   "outputs": [],
   "source": [
    "test_y=test_ids.merge(test_y, on=[\"shop_id\", \"item_id\"], how=\"outer\")"
   ]
  },
  {
   "cell_type": "code",
   "execution_count": null,
   "id": "b8c6d174",
   "metadata": {},
   "outputs": [],
   "source": [
    "test_y[[\"ID\", \"item_cnt_month\"]].to_csv(SUBMISSION_FOLDER+\"catboost20210902synthetictrainval.csv\",index=False)\n",
    "# Score 2.71894"
   ]
  }
 ],
 "metadata": {
  "kernelspec": {
   "display_name": "coursera",
   "language": "python",
   "name": "coursera"
  },
  "language_info": {
   "codemirror_mode": {
    "name": "ipython",
    "version": 3
   },
   "file_extension": ".py",
   "mimetype": "text/x-python",
   "name": "python",
   "nbconvert_exporter": "python",
   "pygments_lexer": "ipython3",
   "version": "3.9.6"
  }
 },
 "nbformat": 4,
 "nbformat_minor": 5
}
